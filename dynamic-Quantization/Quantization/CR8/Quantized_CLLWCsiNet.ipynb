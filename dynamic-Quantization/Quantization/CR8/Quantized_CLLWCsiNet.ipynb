{
 "cells": [
  {
   "cell_type": "code",
   "execution_count": 2,
   "metadata": {},
   "outputs": [],
   "source": [
    "from datetime import datetime\n",
    "import sys\n",
    "import traceback\n",
    "import numpy as np\n",
    "from datetime import datetime\n",
    "import sys\n",
    "import traceback\n",
    "import scipy.io as sio\n",
    "import torch"
   ]
  },
  {
   "cell_type": "code",
   "execution_count": null,
   "metadata": {},
   "outputs": [],
   "source": [
    "\n",
    "\n",
    "class ConvBN(nn.Sequential):\n",
    "    def __init__(self, in_planes, out_planes, kernel_size,groups=1):\n",
    "        if not isinstance(kernel_size, int):\n",
    "            padding = [(i - 1) // 2 for i in kernel_size]\n",
    "        else:\n",
    "            padding = (kernel_size - 1) // 2\n",
    "        super(ConvBN, self).__init__(OrderedDict([\n",
    "            ('conv', nn.Conv2d(in_planes, out_planes, kernel_size,\n",
    "                               padding=padding)),\n",
    "            ('bn', nn.BatchNorm2d(out_planes,eps=1e-03, momentum=0.99))\n",
    "        ]))\n",
    "\n",
    "        \n",
    "        \n",
    "class RefineNet(nn.Module):\n",
    "    def __init__(self, img_channels=2):\n",
    "        super(RefineNet, self).__init__()\n",
    "        self.conv=nn.Sequential(OrderedDict([\n",
    "            (\"first_conv1x7\",ConvBN(img_channels,8,[1,7])),\n",
    "            (\"PReLU_1\",nn.LeakyReLU(negative_slope=0.3, inplace=True)),\n",
    "            (\"second_Conv1x7\",ConvBN(8,16,[1,7])),\n",
    "            (\"PReLU_2\",nn.LeakyReLU(negative_slope=0.3, inplace=True)),\n",
    "            (\"third_Conv1x7\",ConvBN(16,2,[1,7])),    \n",
    "        ]))\n",
    "        \n",
    "        self.conv_1=nn.Sequential(OrderedDict([\n",
    "            (\"first_conv1x7\",ConvBN(img_channels,8,[1,5])),\n",
    "            (\"PReLU_1\",nn.LeakyReLU(negative_slope=0.3, inplace=True)),\n",
    "            (\"second_Conv1x7\",ConvBN(8,16,[1,5])),\n",
    "            (\"PReLU_2\",nn.LeakyReLU(negative_slope=0.3, inplace=True)),\n",
    "            (\"third_Conv1x7\",ConvBN(16,2, [1,5])),    \n",
    "        ]))\n",
    "        \n",
    "        self.conv1x1 = ConvBN(4, 2, [1,7])\n",
    "        self.Relu = nn.LeakyReLU(negative_slope=0.3, inplace=True)\n",
    "        \n",
    "        \n",
    "    def forward(self, x):\n",
    "        ori_x = x.clone()\n",
    "\n",
    "        # concatenate\n",
    "        x_1 = self.conv(x)\n",
    "        x_2 = self.conv_1(x)\n",
    "        x = torch.cat((x_1, x_2), dim=1)\n",
    "        x = self.Relu(x)\n",
    "        x =self.conv1x1(x)\n",
    "\n",
    "\n",
    "        return self.Relu(x + ori_x)\n",
    "    \n",
    "    \n",
    "    \n",
    "    \n",
    "class Encoder_Compression(nn.Module):\n",
    "    def __init__(self):\n",
    "        super(Encoder_Compression, self).__init__()\n",
    "        self.conv=nn.Sequential(OrderedDict([\n",
    "            (\"first_conv1x7\",ConvBN(64,32,[1,7])),\n",
    "            (\"PReLU_1\",nn.LeakyReLU(negative_slope=0.3, inplace=True)),\n",
    "            (\"second_Conv1x7\",ConvBN(32,16,[1,7])),\n",
    "            (\"PReLU_2\",nn.LeakyReLU(negative_slope=0.3, inplace=True)),\n",
    "            (\"third_Conv1x7\",ConvBN(16,8,[1,7])),\n",
    "        ]))\n",
    "        \n",
    "        self.conv_2=ConvBN(64,8,[1,7])\n",
    "        self.conv_3=ConvBN(16,8,[1,7])\n",
    "        \n",
    "        \n",
    "        self.LeakyRelu = nn.LeakyReLU(negative_slope=0.3, inplace=True)\n",
    "               \n",
    "    def forward(self, x):        \n",
    "        x_1= self.conv(x)\n",
    "        x_2= self.conv_2(x)\n",
    "        x = torch.cat((x_1, x_2), dim=1)\n",
    "        x = self.LeakyRelu(x)\n",
    "        x = self.conv_3(x)\n",
    "        return self.LeakyRelu(x)\n",
    "    \n",
    "        \n",
    "           \n",
    "\n",
    "class CLLWCsiNet(nn.Module):\n",
    "    def __init__(self,reduction=4,residual_num=2):\n",
    "        super(CLLWCsiNet, self).__init__()\n",
    "        total_size, in_channel, w, h = 2048, 2, 32, 32\n",
    "        \n",
    "        self.encoder_p1 = nn.Sequential(OrderedDict([\n",
    "            (\"first_conv1x7\",ConvBN(2,2, [1,7])),\n",
    "            (\"LeakyReLU_1\",nn.LeakyReLU(negative_slope=0.3, inplace=True)),\n",
    "            (\"second_conv1x7\",ConvBN(2,2,[7,1])),\n",
    "            #(\"LeakyReLU_2\",nn.LeakyReLU(negative_slope=0.3, inplace=True)),\n",
    "            ]))\n",
    "        \n",
    "        self.encoder_p2= nn.Sequential(OrderedDict([\n",
    "            ('conv1x3', ConvBN(2, 2, [1, 5])),\n",
    "            ('LeakyRelu_1', nn.LeakyReLU(negative_slope=0.3, inplace=True)),\n",
    "            ('conv3x1', ConvBN(2, 2, [5, 1])),\n",
    "            ]))\n",
    "        \n",
    "        self.encoder_p3= nn.Sequential(OrderedDict([\n",
    "            ('conv1x3', ConvBN(2, 2, [1, 3])),\n",
    "            ('LeakyRelu_1', nn.LeakyReLU(negative_slope=0.3, inplace=True)),\n",
    "            ('conv3x1', ConvBN(2, 2, [3, 1])),\n",
    "            ]))\n",
    "        \n",
    "        self.con1x1=ConvBN(6, 2, [1,7])\n",
    "        self.LeakyReLU=nn.LeakyReLU(negative_slope=0.3, inplace=True)\n",
    "        \n",
    "        ######################## CNN base Laten Space ########################################\n",
    "        self.encoder_compression=Encoder_Compression()\n",
    "        \n",
    "        \n",
    "        \n",
    "        self.decoder_get_feedback_in_UE=nn.Sequential(OrderedDict([\n",
    "            (\"first_conv1x7\",ConvBN(8,16,[1,7])),\n",
    "            (\"LeakyRelu_1\",nn.LeakyReLU(negative_slope=0.3, inplace=True)),\n",
    "            (\"conv1x7\",ConvBN(16,32,[1,7])),\n",
    "            (\"LeakyRelu_2\",nn.LeakyReLU(negative_slope=0.3, inplace=True)),\n",
    "            (\"second_conv1x7\",ConvBN(32,64,[1,7])),\n",
    "             #(\"LeakyRelu_3\",nn.LeakyReLU(negative_slope=0.3, inplace=True)),\n",
    "            ]))\n",
    "        \n",
    "        \n",
    "        self.remove_AGN=nn.Sequential(OrderedDict([\n",
    "            (\"conv_1x7\",ConvBN(8,16,[1,7])),\n",
    "            (\"LeakyReLu_1\",nn.LeakyReLU(negative_slope=0.3, inplace=True)),\n",
    "            (\"conv_7x1\",ConvBN(16,32,[1,7])),\n",
    "            (\"LeakyReLu_1\",nn.LeakyReLU(negative_slope=0.3, inplace=True)),\n",
    "            (\"conv_3x3\",ConvBN(32,64,[1,7])),\n",
    "        ]))\n",
    "        \n",
    "        \n",
    "        \n",
    "        self.decoder_refine_net = nn.ModuleList([RefineNet(in_channel) for _ in range(residual_num)])\n",
    "        \n",
    "        self._last_cov=nn.Sequential(OrderedDict([\n",
    "            (\"firstcov2\",ConvBN(2,2,[1,7])),\n",
    "            (\"activation\",nn.Sigmoid())\n",
    "        ]))\n",
    "        \n",
    "        \n",
    "        \n",
    "        for m in self.modules():\n",
    "            if isinstance(m, (nn.Conv2d)):\n",
    "                nn.init.xavier_uniform_(m.weight)\n",
    "            elif isinstance(m, nn.BatchNorm2d):\n",
    "                nn.init.constant_(m.weight, 1)\n",
    "                nn.init.constant_(m.bias, 0)\n",
    "        \n",
    "        \n",
    "    def adding_noise(self,x):\n",
    "        \n",
    "        signal_power = torch.mean(x**2)\n",
    "\n",
    "        \n",
    "        SNR_dB = 40\n",
    "\n",
    "        \n",
    "        SNR_linear = 10**(SNR_dB / 10)\n",
    "\n",
    "       \n",
    "        noise_power = signal_power / SNR_linear\n",
    "\n",
    "        \n",
    "        noise = torch.randn_like(x) * torch.sqrt(noise_power)\n",
    "\n",
    "       \n",
    "        x_noisy = x + noise\n",
    "\n",
    "        return x_noisy\n",
    "    \n",
    "    \n",
    "    \n",
    "    def forward(self, x):\n",
    "        batch_size, channels, height, width = x.size()\n",
    "        #print(x.size())\n",
    "        x_1=self.encoder_p1(x)\n",
    "        x_2=self.encoder_p2(x)\n",
    "        x_3=self.encoder_p3(x)\n",
    "        x=torch.cat((x_1,x_2,x_3),dim=1)\n",
    "        x=self.con1x1(x)\n",
    "        x=self.LeakyReLU(x)\n",
    "        #print(x.size())\n",
    "        x = x.contiguous().view(batch_size,64 ,1,32)\n",
    "        #print(x.size())\n",
    "        x=self.encoder_compression(x)\n",
    "        x_noisy_feedback=self.adding_noise(x)\n",
    "        y=self.remove_AGN(x_noisy_feedback)\n",
    "        x=self.decoder_get_feedback_in_UE(x)\n",
    "        x=x-y\n",
    "        x=self.LeakyReLU(x)\n",
    "        x = x.contiguous().view(batch_size,2 ,32,32)\n",
    "        #x = self.refine(x)\n",
    "        for layer in self.decoder_refine_net:\n",
    "            x = layer(x)\n",
    "        x=self._last_cov(x)\n",
    "       \n",
    "        \n",
    "        return x"
   ]
  },
  {
   "cell_type": "code",
   "execution_count": null,
   "metadata": {},
   "outputs": [],
   "source": [
    "model=CLLWCsiNet()"
   ]
  },
  {
   "cell_type": "code",
   "execution_count": 5,
   "metadata": {},
   "outputs": [],
   "source": [
    "pytorch_total_params = sum(p.numel() for p in model.parameters() if p.requires_grad)"
   ]
  },
  {
   "cell_type": "code",
   "execution_count": 6,
   "metadata": {},
   "outputs": [
    {
     "data": {
      "text/plain": [
       "2103064"
      ]
     },
     "execution_count": 6,
     "metadata": {},
     "output_type": "execute_result"
    }
   ],
   "source": [
    "pytorch_total_params"
   ]
  },
  {
   "cell_type": "code",
   "execution_count": 6,
   "metadata": {},
   "outputs": [],
   "source": [
    "import torch\n",
    "#from Trans_Net.utils import *\n",
    "\n",
    "\n",
    "state_dict = torch.load(r'BCsiNet\\a2-20240526T021335Z-001\\a2\\in01\\model.pth',map_location=torch.device('cpu'))['state_dict']"
   ]
  },
  {
   "cell_type": "code",
   "execution_count": 7,
   "metadata": {},
   "outputs": [
    {
     "data": {
      "text/plain": [
       "<All keys matched successfully>"
      ]
     },
     "execution_count": 7,
     "metadata": {},
     "output_type": "execute_result"
    }
   ],
   "source": [
    "model.load_state_dict(state_dict)"
   ]
  },
  {
   "cell_type": "code",
   "execution_count": 8,
   "metadata": {},
   "outputs": [
    {
     "data": {
      "text/plain": [
       "BCsiNet(\n",
       "  (encoder_feature): Sequential(\n",
       "    (conv3x3_bn): Sequential(\n",
       "      (conv3x3): Conv2d(2, 2, kernel_size=(3, 3), stride=(1, 1), padding=(1, 1), bias=False)\n",
       "      (bn): BatchNorm2d(2, eps=1e-05, momentum=0.1, affine=True, track_running_stats=True)\n",
       "    )\n",
       "    (relu): LeakyReLU(negative_slope=0.3, inplace=True)\n",
       "  )\n",
       "  (encoder_binary_fc): Linear(in_features=2048, out_features=512, bias=True)\n",
       "  (decoder_fc): Linear(in_features=512, out_features=2048, bias=True)\n",
       "  (decoder_feature): Sequential(\n",
       "    (refine0): RefineBlock(\n",
       "      (conv1_bn): Sequential(\n",
       "        (conv3x3): Conv2d(2, 8, kernel_size=(3, 3), stride=(1, 1), padding=(1, 1), bias=False)\n",
       "        (bn): BatchNorm2d(8, eps=1e-05, momentum=0.1, affine=True, track_running_stats=True)\n",
       "      )\n",
       "      (conv2_bn): Sequential(\n",
       "        (conv3x3): Conv2d(8, 16, kernel_size=(3, 3), stride=(1, 1), padding=(1, 1), bias=False)\n",
       "        (bn): BatchNorm2d(16, eps=1e-05, momentum=0.1, affine=True, track_running_stats=True)\n",
       "      )\n",
       "      (conv3_bn): Sequential(\n",
       "        (conv3x3): Conv2d(16, 2, kernel_size=(3, 3), stride=(1, 1), padding=(1, 1), bias=False)\n",
       "        (bn): BatchNorm2d(2, eps=1e-05, momentum=0.1, affine=True, track_running_stats=True)\n",
       "      )\n",
       "      (activation): LeakyReLU(negative_slope=0.3, inplace=True)\n",
       "      (identity): Identity()\n",
       "    )\n",
       "    (refine1): RefineBlock(\n",
       "      (conv1_bn): Sequential(\n",
       "        (conv3x3): Conv2d(2, 8, kernel_size=(3, 3), stride=(1, 1), padding=(1, 1), bias=False)\n",
       "        (bn): BatchNorm2d(8, eps=1e-05, momentum=0.1, affine=True, track_running_stats=True)\n",
       "      )\n",
       "      (conv2_bn): Sequential(\n",
       "        (conv3x3): Conv2d(8, 16, kernel_size=(3, 3), stride=(1, 1), padding=(1, 1), bias=False)\n",
       "        (bn): BatchNorm2d(16, eps=1e-05, momentum=0.1, affine=True, track_running_stats=True)\n",
       "      )\n",
       "      (conv3_bn): Sequential(\n",
       "        (conv3x3): Conv2d(16, 2, kernel_size=(3, 3), stride=(1, 1), padding=(1, 1), bias=False)\n",
       "        (bn): BatchNorm2d(2, eps=1e-05, momentum=0.1, affine=True, track_running_stats=True)\n",
       "      )\n",
       "      (activation): LeakyReLU(negative_slope=0.3, inplace=True)\n",
       "      (identity): Identity()\n",
       "    )\n",
       "    (conv3x3_bn): Sequential(\n",
       "      (conv3x3): Conv2d(2, 2, kernel_size=(3, 3), stride=(1, 1), padding=(1, 1), bias=False)\n",
       "      (bn): BatchNorm2d(2, eps=1e-05, momentum=0.1, affine=True, track_running_stats=True)\n",
       "    )\n",
       "    (sigmoid): Sigmoid()\n",
       "  )\n",
       ")"
      ]
     },
     "execution_count": 8,
     "metadata": {},
     "output_type": "execute_result"
    }
   ],
   "source": [
    "model.eval()"
   ]
  },
  {
   "cell_type": "code",
   "execution_count": 10,
   "metadata": {},
   "outputs": [
    {
     "name": "stderr",
     "output_type": "stream",
     "text": [
      "c:\\Python\\Python312\\Lib\\site-packages\\torch\\ao\\quantization\\observer.py:220: UserWarning: Please use quant_min and quant_max to specify the range for observers.                     reduce_range will be deprecated in a future release of PyTorch.\n",
      "  warnings.warn(\n"
     ]
    }
   ],
   "source": [
    "model.qconfig = torch.quantization.get_default_qconfig('fbgemm')  # Set quantization config\n",
    "quantized_model = torch.quantization.quantize_dynamic(\n",
    "    model, {nn.Linear}, dtype=torch.qint8  # Adjust the module types as per your model\n",
    ")"
   ]
  },
  {
   "cell_type": "code",
   "execution_count": 29,
   "metadata": {},
   "outputs": [
    {
     "data": {
      "text/plain": [
       "tensor([[[[1.0000e+00, 1.0000e+00, 4.9832e-31,  ..., 6.3011e-01,\n",
       "           6.8136e-01, 3.9112e-01],\n",
       "          [1.3863e-14, 1.0000e+00, 2.0154e-04,  ..., 4.8018e-01,\n",
       "           4.6918e-01, 4.8895e-01],\n",
       "          [6.0338e-02, 1.0000e+00, 6.4542e-11,  ..., 3.7392e-01,\n",
       "           5.7526e-01, 4.5633e-01],\n",
       "          ...,\n",
       "          [1.8715e-03, 6.3540e-01, 2.5399e-05,  ..., 5.2076e-01,\n",
       "           5.4985e-01, 4.9177e-01],\n",
       "          [1.0000e+00, 9.9951e-01, 1.5709e-10,  ..., 4.6666e-01,\n",
       "           4.8550e-01, 5.1531e-01],\n",
       "          [9.9976e-01, 4.7980e-10, 9.9995e-01,  ..., 4.8633e-01,\n",
       "           6.6818e-01, 4.5139e-01]],\n",
       "\n",
       "         [[1.0000e+00, 0.0000e+00, 0.0000e+00,  ..., 4.5959e-01,\n",
       "           4.1660e-01, 7.8983e-01],\n",
       "          [1.0000e+00, 1.7667e-23, 1.0000e+00,  ..., 5.2796e-01,\n",
       "           5.3354e-01, 5.4725e-01],\n",
       "          [1.3239e-05, 2.9791e-19, 9.9994e-01,  ..., 5.1131e-01,\n",
       "           4.5796e-01, 6.2678e-01],\n",
       "          ...,\n",
       "          [5.2557e-02, 1.1165e-02, 6.0527e-13,  ..., 4.7359e-01,\n",
       "           4.3564e-01, 4.4410e-01],\n",
       "          [9.4994e-29, 1.0000e+00, 1.0000e+00,  ..., 5.0990e-01,\n",
       "           5.1414e-01, 4.9772e-01],\n",
       "          [6.4044e-23, 3.6236e-24, 9.9998e-01,  ..., 5.3675e-01,\n",
       "           4.8666e-01, 7.0231e-01]]]], grad_fn=<SigmoidBackward0>)"
      ]
     },
     "execution_count": 29,
     "metadata": {},
     "output_type": "execute_result"
    }
   ],
   "source": [
    "# For simplicity, I'm using a dummy input for calibration\n",
    "dummy_input = torch.randn(1, 2, 32, 32)  # Modify according to your input shape\n",
    "quantized_model(dummy_input)"
   ]
  },
  {
   "cell_type": "code",
   "execution_count": 11,
   "metadata": {},
   "outputs": [
    {
     "data": {
      "text/plain": [
       "BCsiNet(\n",
       "  (encoder_feature): Sequential(\n",
       "    (conv3x3_bn): Sequential(\n",
       "      (conv3x3): Conv2d(2, 2, kernel_size=(3, 3), stride=(1, 1), padding=(1, 1), bias=False)\n",
       "      (bn): BatchNorm2d(2, eps=1e-05, momentum=0.1, affine=True, track_running_stats=True)\n",
       "    )\n",
       "    (relu): LeakyReLU(negative_slope=0.3, inplace=True)\n",
       "  )\n",
       "  (encoder_binary_fc): DynamicQuantizedLinear(in_features=2048, out_features=512, dtype=torch.qint8, qscheme=torch.per_tensor_affine)\n",
       "  (decoder_fc): DynamicQuantizedLinear(in_features=512, out_features=2048, dtype=torch.qint8, qscheme=torch.per_tensor_affine)\n",
       "  (decoder_feature): Sequential(\n",
       "    (refine0): RefineBlock(\n",
       "      (conv1_bn): Sequential(\n",
       "        (conv3x3): Conv2d(2, 8, kernel_size=(3, 3), stride=(1, 1), padding=(1, 1), bias=False)\n",
       "        (bn): BatchNorm2d(8, eps=1e-05, momentum=0.1, affine=True, track_running_stats=True)\n",
       "      )\n",
       "      (conv2_bn): Sequential(\n",
       "        (conv3x3): Conv2d(8, 16, kernel_size=(3, 3), stride=(1, 1), padding=(1, 1), bias=False)\n",
       "        (bn): BatchNorm2d(16, eps=1e-05, momentum=0.1, affine=True, track_running_stats=True)\n",
       "      )\n",
       "      (conv3_bn): Sequential(\n",
       "        (conv3x3): Conv2d(16, 2, kernel_size=(3, 3), stride=(1, 1), padding=(1, 1), bias=False)\n",
       "        (bn): BatchNorm2d(2, eps=1e-05, momentum=0.1, affine=True, track_running_stats=True)\n",
       "      )\n",
       "      (activation): LeakyReLU(negative_slope=0.3, inplace=True)\n",
       "      (identity): Identity()\n",
       "    )\n",
       "    (refine1): RefineBlock(\n",
       "      (conv1_bn): Sequential(\n",
       "        (conv3x3): Conv2d(2, 8, kernel_size=(3, 3), stride=(1, 1), padding=(1, 1), bias=False)\n",
       "        (bn): BatchNorm2d(8, eps=1e-05, momentum=0.1, affine=True, track_running_stats=True)\n",
       "      )\n",
       "      (conv2_bn): Sequential(\n",
       "        (conv3x3): Conv2d(8, 16, kernel_size=(3, 3), stride=(1, 1), padding=(1, 1), bias=False)\n",
       "        (bn): BatchNorm2d(16, eps=1e-05, momentum=0.1, affine=True, track_running_stats=True)\n",
       "      )\n",
       "      (conv3_bn): Sequential(\n",
       "        (conv3x3): Conv2d(16, 2, kernel_size=(3, 3), stride=(1, 1), padding=(1, 1), bias=False)\n",
       "        (bn): BatchNorm2d(2, eps=1e-05, momentum=0.1, affine=True, track_running_stats=True)\n",
       "      )\n",
       "      (activation): LeakyReLU(negative_slope=0.3, inplace=True)\n",
       "      (identity): Identity()\n",
       "    )\n",
       "    (conv3x3_bn): Sequential(\n",
       "      (conv3x3): Conv2d(2, 2, kernel_size=(3, 3), stride=(1, 1), padding=(1, 1), bias=False)\n",
       "      (bn): BatchNorm2d(2, eps=1e-05, momentum=0.1, affine=True, track_running_stats=True)\n",
       "    )\n",
       "    (sigmoid): Sigmoid()\n",
       "  )\n",
       ")"
      ]
     },
     "execution_count": 11,
     "metadata": {},
     "output_type": "execute_result"
    }
   ],
   "source": [
    "quantized_model.to('cpu')"
   ]
  },
  {
   "cell_type": "code",
   "execution_count": 12,
   "metadata": {},
   "outputs": [],
   "source": [
    "criterion = nn.MSELoss().to('cpu')"
   ]
  },
  {
   "cell_type": "code",
   "execution_count": 13,
   "metadata": {},
   "outputs": [],
   "source": [
    "envir = 'indoor'  # 'indoor' or 'outdoor'\n",
    "# image params\n",
    "img_height = 32\n",
    "img_width = 32\n",
    "img_channels = 2\n",
    "img_total = img_height * img_width * img_channels\n",
    "# network params\n",
    "#residual_num = 2\n",
    "encoded_dim = 512  # compress rate=1/4->dim.=512, compress rate=1/16->dim.=128, compress rate=1/32->dim.=64, compress rate=1/64->dim.=32"
   ]
  },
  {
   "cell_type": "code",
   "execution_count": 14,
   "metadata": {},
   "outputs": [],
   "source": [
    "# envir = 'indoor'  # 'indoor' or 'outdoor'\n",
    "# # image params\n",
    "# img_height = 32\n",
    "# img_width = 32\n",
    "# img_channels = 2\n",
    "# img_total = img_height * img_width * img_channels\n",
    "# # network params\n",
    "# residual_num = 2\n",
    "# encoded_dim = 512  # compress rate=1/4->dim.=512, compress rate=1/16->dim.=128, compress rate=1/32->dim.=64, compress rate=1/64->dim.=32\n",
    "# Data loading\n",
    "if envir == 'indoor':\n",
    "    mat = sio.loadmat(r'archive\\DATA_Htrainin.mat')\n",
    "    x_train = mat['HT']  # array\n",
    "    mat = sio.loadmat(r'archive\\DATA_Hvalin.mat')\n",
    "    x_val = mat['HT']  # array\n",
    "    mat = sio.loadmat(r'archive\\DATA_Htestin.mat')\n",
    "    x_test = mat['HT']  # array\n",
    "    mat = sio.loadmat(r'archive\\DATA_HtestFin_all.mat')\n",
    "    X_test = mat['HF_all']  # array\n",
    "\n",
    "elif envir == 'outdoor':\n",
    "    mat = sio.loadmat(r'archive\\DATA_Htrainout.mat')\n",
    "    x_train = mat['HT']  # array\n",
    "    mat = sio.loadmat(r'archive\\DATA_Hvalout.mat')\n",
    "    x_val = mat['HT']  # array\n",
    "    mat = sio.loadmat(r'archive\\DATA_Htestout.mat')\n",
    "    x_test = mat['HT']  # array\n",
    "    mat = sio.loadmat(r'archive\\DATA_HtestFout_all.mat')\n",
    "    X_test = mat['HF_all']  # array"
   ]
  },
  {
   "cell_type": "code",
   "execution_count": 15,
   "metadata": {},
   "outputs": [],
   "source": [
    "import numpy as np\n",
    "\n",
    "x_train = x_train.astype('float32')\n",
    "x_val = x_val.astype('float32')\n",
    "x_test = x_test.astype('float32')\n",
    "\n",
    "x_train_length = len(x_train)\n",
    "x_val_length = len(x_val)\n",
    "x_test_length = len(x_test)\n",
    "\n",
    "x_train = np.reshape(x_train, (x_train_length, img_channels, img_height, img_width))  # adapt this if using `channels_first` image data format\n",
    "x_val = np.reshape(x_val, (x_val_length, img_channels, img_height, img_width))  # adapt this if using `channels_first` image data format\n",
    "x_test = np.reshape(x_test, (x_test_length, img_channels, img_height, img_width))  # adapt this if using `channels_first` image data format\n",
    "\n",
    "x_train = torch.tensor(x_train)\n",
    "x_val = torch.tensor(x_val)\n",
    "x_test = torch.tensor(x_test)"
   ]
  },
  {
   "cell_type": "code",
   "execution_count": 32,
   "metadata": {},
   "outputs": [
    {
     "data": {
      "text/plain": [
       "torch.Size([20000, 2, 32, 32])"
      ]
     },
     "execution_count": 32,
     "metadata": {},
     "output_type": "execute_result"
    }
   ],
   "source": [
    "x_test.shape"
   ]
  },
  {
   "cell_type": "code",
   "execution_count": 18,
   "metadata": {},
   "outputs": [],
   "source": [
    "img_height = 32\n",
    "img_width = 32\n",
    "img_channels = 2"
   ]
  },
  {
   "cell_type": "code",
   "execution_count": null,
   "metadata": {},
   "outputs": [],
   "source": []
  },
  {
   "cell_type": "code",
   "execution_count": 33,
   "metadata": {},
   "outputs": [
    {
     "name": "stdout",
     "output_type": "stream",
     "text": [
      "NMSE is  13.483683256978747\n"
     ]
    }
   ],
   "source": [
    "import math\n",
    "with torch.no_grad():\n",
    "\n",
    "    #torch.cuda.empty_cache()\n",
    "    quantized_model.eval()\n",
    "    device='cpu'\n",
    "    x_hat = quantized_model(x_test)\n",
    "    #torch.quantization.convert(quantized_model, inplace=True)\n",
    "    x_test = x_test.to('cpu')\n",
    "    x_hat=x_hat.to('cpu')\n",
    "\n",
    "    # Calcaulating the NMSE and rho\n",
    "    # if envir == 'indoor':\n",
    "    #     mat = sio.loadmat('D:\\Cost2100\\DATA_HtestFin_all.mat')\n",
    "    #     X_test = mat['HF_all']  # array\n",
    "\n",
    "    # elif envir == 'outdoor':\n",
    "    #     mat = sio.loadmat('D:\\Cost2100\\DATA_HtestFout_all.mat')\n",
    "    #     X_test = mat['HF_all']  # array\n",
    "\n",
    "    #X_test = torch.tensor(X_test)\n",
    "    #X_test = torch.reshape(X_test, (len(X_test), img_height, 125))\n",
    "    x_test_real = torch.reshape(x_test[:, 0, :, :], (len(x_test), -1))\n",
    "    x_test_imag = torch.reshape(x_test[:, 1, :, :], (len(x_test), -1))\n",
    "    x_test_C = x_test_real - 0.5 + 1j * (x_test_imag - 0.5)\n",
    "    x_hat_real = torch.reshape(x_hat[:, 0, :, :], (len(x_hat), -1))\n",
    "    x_hat_imag = torch.reshape(x_hat[:, 1, :, :], (len(x_hat), -1))\n",
    "    x_hat_C = x_hat_real - 0.5 + 1j * (x_hat_imag - 0.5)\n",
    "    x_hat_F = torch.reshape(x_hat_C, (len(x_hat_C), img_height, img_width))\n",
    "    X_hat = torch.fft.fft(torch.cat((x_hat_F, torch.zeros((len(x_hat_C), img_height, 257 - img_width))), axis=2), axis=2)\n",
    "    X_hat = X_hat[:, :, 0:125]\n",
    "\n",
    "    #n1 = torch.sqrt(torch.sum(torch.conj(X_test) * X_test, axis=1))\n",
    "    #n2 = torch.sqrt(torch.sum(torch.conj(X_hat) * X_hat, axis=1))\n",
    "    #aa = abs(torch.sum(torch.conj(X_test) * X_hat, axis=1))\n",
    "    #rho = torch.mean(aa / (n1 * n2), axis=1)\n",
    "    X_hat = torch.reshape(X_hat, (len(X_hat), -1))\n",
    "    #X_test = torch.reshape(X_test, (len(X_test), -1))\n",
    "    power = torch.sum(abs(x_test_C) ** 2, axis=1)\n",
    "    power_d = torch.sum(abs(X_hat) ** 2, axis=1)\n",
    "    mse = torch.sum(abs(x_test_C - x_hat_C) ** 2, axis=1)\n",
    "    NMSE = 10 * math.log10(torch.mean(mse / power))\n",
    "    #Correlation = torch.mean(rho).item().real\n",
    "\n",
    "    # print(\"In \" + envir + \" environment\")\n",
    "    # print(\"When dimension is\", encoded_dim)\n",
    "    print(\"NMSE is \", NMSE)\n",
    "    #print(\"Correlation is \", Correlation)\n",
    "#\n",
    "# file = 'CsiNet_' + (envir) + '_dim' + str(encoded_dim) + time.strftime('_%m_%d_%H_%M')\n",
    "# outfile = \"result/result_%s.mat\" % file\n",
    "# savemat(outfile, {'train_loss_history': train_loss_history,\n",
    "#                   'val_loss_history': val_loss_history,\n",
    "#                   'training_time': training_time,\n",
    "#                   'NMSE': NMSE,\n",
    "#                   'Correlation': Correlation})"
   ]
  }
 ],
 "metadata": {
  "kernelspec": {
   "display_name": "Python 3",
   "language": "python",
   "name": "python3"
  },
  "language_info": {
   "codemirror_mode": {
    "name": "ipython",
    "version": 3
   },
   "file_extension": ".py",
   "mimetype": "text/x-python",
   "name": "python",
   "nbconvert_exporter": "python",
   "pygments_lexer": "ipython3",
   "version": "3.12.4"
  }
 },
 "nbformat": 4,
 "nbformat_minor": 2
}
