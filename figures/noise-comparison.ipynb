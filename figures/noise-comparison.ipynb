{
  "cells": [
    {
      "cell_type": "markdown",
      "metadata": {
        "id": "view-in-github",
        "colab_type": "text"
      },
      "source": [
        "<a href=\"https://colab.research.google.com/github/FardadAnsari/CLLWCsiNet/blob/CLLWCsiNet-NoQ-Noisy-channel/figures/noise-comparison.ipynb\" target=\"_parent\"><img src=\"https://colab.research.google.com/assets/colab-badge.svg\" alt=\"Open In Colab\"/></a>"
      ]
    },
    {
      "cell_type": "code",
      "source": [
        "!pip install matplotlib"
      ],
      "metadata": {
        "id": "XM5CaZF-Xflc",
        "outputId": "97d7008a-2e9a-4a4b-8e03-708c4be5fe8b",
        "colab": {
          "base_uri": "https://localhost:8080/"
        }
      },
      "id": "XM5CaZF-Xflc",
      "execution_count": 1,
      "outputs": [
        {
          "output_type": "stream",
          "name": "stdout",
          "text": [
            "Requirement already satisfied: matplotlib in /usr/local/lib/python3.11/dist-packages (3.10.0)\n",
            "Requirement already satisfied: contourpy>=1.0.1 in /usr/local/lib/python3.11/dist-packages (from matplotlib) (1.3.2)\n",
            "Requirement already satisfied: cycler>=0.10 in /usr/local/lib/python3.11/dist-packages (from matplotlib) (0.12.1)\n",
            "Requirement already satisfied: fonttools>=4.22.0 in /usr/local/lib/python3.11/dist-packages (from matplotlib) (4.57.0)\n",
            "Requirement already satisfied: kiwisolver>=1.3.1 in /usr/local/lib/python3.11/dist-packages (from matplotlib) (1.4.8)\n",
            "Requirement already satisfied: numpy>=1.23 in /usr/local/lib/python3.11/dist-packages (from matplotlib) (2.0.2)\n",
            "Requirement already satisfied: packaging>=20.0 in /usr/local/lib/python3.11/dist-packages (from matplotlib) (24.2)\n",
            "Requirement already satisfied: pillow>=8 in /usr/local/lib/python3.11/dist-packages (from matplotlib) (11.1.0)\n",
            "Requirement already satisfied: pyparsing>=2.3.1 in /usr/local/lib/python3.11/dist-packages (from matplotlib) (3.2.3)\n",
            "Requirement already satisfied: python-dateutil>=2.7 in /usr/local/lib/python3.11/dist-packages (from matplotlib) (2.8.2)\n",
            "Requirement already satisfied: six>=1.5 in /usr/local/lib/python3.11/dist-packages (from python-dateutil>=2.7->matplotlib) (1.17.0)\n"
          ]
        }
      ]
    },
    {
      "cell_type": "code",
      "execution_count": null,
      "id": "d7342550",
      "metadata": {
        "vscode": {
          "languageId": "plaintext"
        },
        "id": "d7342550"
      },
      "outputs": [],
      "source": [
        "import matplotlib.pyplot as plt\n",
        "import numpy as np\n",
        "from scipy.stats import pearsonr\n",
        "\n",
        "# Sample data\n",
        "ypoints = np.array([15.87, 5.64, 0.60, -4.14, -8.47, -11.87, -13.90, -14.83, -15.17, -15.29])\n",
        "ypoints1 = np.array([12.13, 6.93, 1.55, -3.87, -8.88, -12.64, -14.71, -15.57, -15.86, -15.96])\n",
        "ypoints2 = np.array([8.46, 2.90, -3.41, -8.84, -11.32, -12.06, -12.28, -12.36, -12.38, -12.39])\n",
        "ypoints3 = np.array([-11.55, -11.18, -11.91, -11.27, -9.89, -11.34, -11.60, -11.64, -11.25, -12.11])\n",
        "ypoints4 = np.array([20, 16, 12.30, 7, 3, -2.5, -7.5, -10.10, -11, -12])\n",
        "ypoints5 = np.array([4, -5.20, -8, -9.5, -10.2, -11.8, -12.2, -12.8, -12.9, -12.9])\n",
        "ypoints6 = np.array([np.nan, 0, -5, -10, -14, -16, -16.8, -17.4, -17.5, np.nan])\n",
        "\n",
        "# List of models including the proposed model\n",
        "models = [\n",
        "    ('ACRDNet1x', ypoints),\n",
        "    ('CRNet', ypoints1),\n",
        "    ('BCsiNet', ypoints2),\n",
        "    ('Proposed Model', ypoints3),\n",
        "    ('CsiNet', ypoints4),\n",
        "    ('CsiNet+DNNet', ypoints5),\n",
        "    ('CsiNetPlus', ypoints6),\n",
        "]\n",
        "\n",
        "# Calculate Pearson correlation coefficient for the proposed model (ypoints3) with its previous values\n",
        "valid_indices = ~np.isnan(ypoints3)\n",
        "valid_model_values = ypoints3[valid_indices]\n",
        "\n",
        "# Previous values\n",
        "previous_values = valid_model_values[:-1]\n",
        "current_values = valid_model_values[1:]\n",
        "\n",
        "if len(previous_values) > 1:\n",
        "    corr_proposed_model, _ = pearsonr(previous_values, current_values)\n",
        "    print(f'Correlation of Proposed Model NMSE with previous value: {corr_proposed_model:.2f}')\n",
        "else:\n",
        "    corr_proposed_model = np.nan\n",
        "    print('Not enough data to calculate correlation for Proposed Model')\n",
        "\n",
        "# Calculate Pearson correlation coefficients for other models\n",
        "correlations = []\n",
        "for model_name, model_values in models:\n",
        "    if model_name == 'Proposed Model':\n",
        "        correlations.append((model_name, corr_proposed_model))\n",
        "        continue\n",
        "\n",
        "    valid_indices = ~np.isnan(model_values)\n",
        "    valid_model_values = model_values[valid_indices]\n",
        "\n",
        "    # Previous values\n",
        "    previous_values = valid_model_values[:-1]\n",
        "    current_values = valid_model_values[1:]\n",
        "\n",
        "    if len(previous_values) > 1:\n",
        "        corr, _ = pearsonr(previous_values, current_values)\n",
        "        correlations.append((model_name, corr))\n",
        "        print(f'Correlation of {model_name} NMSE with previous value: {corr:.2f}')\n",
        "    else:\n",
        "        correlations.append((model_name, np.nan))\n",
        "        print(f'Not enough data to calculate correlation for {model_name}')\n",
        "\n",
        "# Prepare data for plotting\n",
        "model_names = [model[0] for model in correlations]\n",
        "corr_values = [model[1] for model in correlations]\n",
        "\n",
        "# Plotting the correlation coefficients\n",
        "plt.figure(figsize=(10, 6))\n",
        "bars = plt.bar(model_names, corr_values, color=['skyblue' if model != 'Proposed Model' else 'orange' for model in model_names])\n",
        "\n",
        "# Adding value labels on top of each bar\n",
        "for bar in bars:\n",
        "    height = bar.get_height()\n",
        "    plt.annotate(f'{height:.2f}',\n",
        "                 xy=(bar.get_x() + bar.get_width() / 2, height),\n",
        "                 xytext=(0, 3),  # 3 points vertical offset\n",
        "                 textcoords=\"offset points\",\n",
        "                 ha='center', va='bottom')\n",
        "\n",
        "# Adding axes labels and title\n",
        "plt.xlabel('Models', fontsize=12, fontweight='bold')\n",
        "plt.ylabel('Pearson Correlation Coefficient', fontsize=12, fontweight='bold')\n",
        "plt.title('Correlation of NMSE Values with Previous Values', fontsize=14, fontweight='bold')\n",
        "\n",
        "# Adding grid lines for better readability\n",
        "plt.grid(axis='y', linestyle='--', linewidth=0.7)\n",
        "\n",
        "# Save the plot as an image file (optional)\n",
        "plt.savefig('nmse_previous_correlation.png', dpi=300, bbox_inches='tight')\n",
        "\n",
        "# Display the plot\n",
        "plt.show()\n"
      ]
    }
  ],
  "metadata": {
    "language_info": {
      "name": "python"
    },
    "colab": {
      "provenance": [],
      "include_colab_link": true
    },
    "kernelspec": {
      "name": "python3",
      "display_name": "Python 3"
    }
  },
  "nbformat": 4,
  "nbformat_minor": 5
}